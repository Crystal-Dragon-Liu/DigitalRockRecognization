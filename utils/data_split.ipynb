{
 "cells": [
  {
   "cell_type": "code",
   "execution_count": 12,
   "metadata": {},
   "outputs": [],
   "source": [
    "import os\n",
    "import cv2\n",
    "from tqdm import tqdm\n",
    "from PIL import Image\n",
    "import numpy as np\n",
    "import matplotlib.pyplot as plt\n"
   ]
  },
  {
   "cell_type": "code",
   "execution_count": 33,
   "metadata": {},
   "outputs": [],
   "source": [
    "# raw_data_path\n",
    "img_raw_data_path       = 'D:/PyProject/torchPractise/dataset/rock_data/image_no_spilt/'\n",
    "mask_raw_data_path      = 'D:/PyProject/torchPractise/dataset/rock_data/mask_no_spilt/'\n",
    "img_split_data_path     = '/Users/crystal-dragon-lyb/rock_segmentation/rock_segementation_src/rock_dataset/image/'\n",
    "mask_split_data_path    = '/Users/crystal-dragon-lyb/rock_segmentation/rock_segementation_src/rock_dataset/mask/'\n",
    "\n",
    "org_img_split_data_path     = 'D:/zhuanli/rock_segementation_src/rock_dataset/origin_image/'\n",
    "org_mask_split_data_path    = 'D:/zhuanli/rock_segementation_src/rock_dataset/origin_mask/'"
   ]
  },
  {
   "cell_type": "code",
   "execution_count": 35,
   "metadata": {},
   "outputs": [],
   "source": [
    "def split_and_save_rock_data(img_path: str, save_path: str = '', size: tuple=(512, 512)):\n",
    "    img = cv2.imread(img_path)\n",
    "    print(\"size: \", img.shape)\n",
    "    height          =   img.shape[0]\n",
    "    width           =   img.shape[1]\n",
    "    row_batch       = height // size[0]\n",
    "    column_batch    = width // size[1]\n",
    "    i = 0\n",
    "    print(\"batchSIze:\", row_batch, column_batch)\n",
    "    for row in tqdm(range(row_batch)):\n",
    "        for column in range(column_batch):\n",
    "            row_start       =   row*size[0]\n",
    "            row_end         =   row*size[0]+ size[0]\n",
    "            column_start    =   column*size[1]\n",
    "            column_end      =   column* size[1] + size[1]\n",
    "            data_block = img[row_start: row_end, column_start: column_end]\n",
    "            cv2.imwrite(save_path + str(i) + '.png', img[row_start: row_end, column_start: column_end], [cv2.IMWRITE_PNG_COMPRESSION, 0])\n",
    "            i += 1\n",
    "\n",
    "def get_unique_rgb_list(img_path: str):\n",
    "    na = get_img_to_array(img_path)\n",
    "    colours, counts = np.unique(na.reshape(-1,3), axis=0, return_counts=1)\n",
    "    return colours, counts\n",
    "\n",
    "def get_img_to_array(img_path: str):\n",
    "    img = cv2.imread(img_path, cv2.COLOR_BGR2RGB)\n",
    "    return img\n",
    "\n",
    "def get_unique_all_rgb_list(img_path: str):\n",
    "    img_list = os.listdir(img_path)\n",
    "    init_color, counts = get_unique_rgb_list(img_path + img_list[0])\n",
    "    img_list = img_list[1:]\n",
    "    color_set = init_color\n",
    "    print(init_color.shape)\n",
    "    # for img in img_list:\n",
    "    #     new_colours, new_counts = get_unique_all_rgb_list(img_path + img)\n",
    "    #     # update the counts\n",
    "    #     for i in range(len(new_colours)):\n",
    "    #         if new_colours[i] in init_color:\n",
    "    #             index_group = np.where(init_color == new_colours[i])\n",
    "    #             counts[index_group] += new_counts[i]\n",
    "    "
   ]
  },
  {
   "cell_type": "code",
   "execution_count": 38,
   "metadata": {
    "tags": []
   },
   "outputs": [
    {
     "name": "stderr",
     "output_type": "stream",
     "text": [
      "  4%|▎         | 1/27 [00:00<00:03,  7.10it/s]size:  (13876, 18432, 3)\n",
      "batchSIze: 27 36\n",
      "100%|██████████| 27/27 [00:02<00:00, 12.24it/s]\n"
     ]
    }
   ],
   "source": [
    "split_and_save_rock_data(mask_raw_data_path+'rock_image_5_P.png', mask_split_data_path)"
   ]
  },
  {
   "cell_type": "code",
   "execution_count": 54,
   "metadata": {},
   "outputs": [
    {
     "name": "stderr",
     "output_type": "stream",
     "text": [
      "  0%|          | 0/27 [00:00<?, ?it/s]size:  (13876, 18432, 3)\n",
      "batchSIze: 27 36\n",
      "100%|██████████| 27/27 [00:07<00:00,  3.49it/s]\n"
     ]
    }
   ],
   "source": [
    "# split_and_save_rock_data(img_raw_data_path+'rock_image_5.png', img_split_data_path)"
   ]
  },
  {
   "cell_type": "code",
   "execution_count": 20,
   "metadata": {},
   "outputs": [
    {
     "data": {
      "text/plain": [
       "(8, 3)"
      ]
     },
     "execution_count": 20,
     "metadata": {},
     "output_type": "execute_result"
    }
   ],
   "source": [
    "# get_unique_rgb_list(img_split_data_path + '0.png')\n",
    "# get_unique_all_rgb_list(img_split_data_path)\n",
    "img = get_img_to_array(mask_split_data_path + '0.png')\n",
    "color_list, counts = get_unique_rgb_list(mask_split_data_path + '0.png')\n",
    "color_list.shape"
   ]
  },
  {
   "cell_type": "code",
   "execution_count": 6,
   "metadata": {},
   "outputs": [
    {
     "name": "stdout",
     "output_type": "stream",
     "text": [
      "True\n",
      "(array([1, 1, 1]), array([0, 1, 2]))\n"
     ]
    }
   ],
   "source": [
    "a = np.array([[1, 2, 3], [2, 3, 4]])\n",
    "b = np.array([[2, 3, 4]])\n",
    "if b in a:\n",
    "    print(True)\n",
    "index = np.where(a == b)\n",
    "print(index)"
   ]
  },
  {
   "cell_type": "code",
   "execution_count": 29,
   "metadata": {},
   "outputs": [
    {
     "name": "stdout",
     "output_type": "stream",
     "text": [
      "(2, 3) (1, 3)\n"
     ]
    }
   ],
   "source": [
    "result = np.concatenate((a, b), axis= 0)\n",
    "print(a.shape, b.shape)"
   ]
  },
  {
   "cell_type": "code",
   "execution_count": 14,
   "metadata": {},
   "outputs": [
    {
     "data": {
      "text/plain": [
       "(array([0, 0, 0]), array([0, 1, 2]))"
      ]
     },
     "execution_count": 14,
     "metadata": {},
     "output_type": "execute_result"
    }
   ],
   "source": [
    "index = np.where(a == a[0])\n",
    "index"
   ]
  },
  {
   "cell_type": "code",
   "execution_count": 23,
   "metadata": {},
   "outputs": [
    {
     "output_type": "execute_result",
     "data": {
      "text/plain": [
       "(1, 3, 3)"
      ]
     },
     "metadata": {},
     "execution_count": 23
    }
   ],
   "source": [
    "c = np.array([[[1, 2, 3], [4, 5, 6], [1, 2, 3]]])\n",
    "d = np.array([4, 5, 6])\n",
    "e = np.array([1, 2, 3])\n",
    "c.shape"
   ]
  },
  {
   "cell_type": "code",
   "execution_count": 24,
   "metadata": {},
   "outputs": [],
   "source": [
    "cc = c.reshape(-1, 3)"
   ]
  },
  {
   "cell_type": "code",
   "execution_count": 28,
   "metadata": {},
   "outputs": [
    {
     "output_type": "error",
     "ename": "NameError",
     "evalue": "name 'get_unique_rgb_list' is not defined",
     "traceback": [
      "\u001b[1;31m---------------------------------------------------------------------------\u001b[0m",
      "\u001b[1;31mNameError\u001b[0m                                 Traceback (most recent call last)",
      "\u001b[1;32m<ipython-input-28-41526af9c5f7>\u001b[0m in \u001b[0;36m<module>\u001b[1;34m\u001b[0m\n\u001b[1;32m----> 1\u001b[1;33m \u001b[0mget_unique_rgb_list\u001b[0m\u001b[1;33m(\u001b[0m\u001b[0mmask_split_data_path\u001b[0m\u001b[1;33m+\u001b[0m\u001b[1;34m'0.png'\u001b[0m\u001b[1;33m)\u001b[0m\u001b[1;33m\u001b[0m\u001b[1;33m\u001b[0m\u001b[0m\n\u001b[0m",
      "\u001b[1;31mNameError\u001b[0m: name 'get_unique_rgb_list' is not defined"
     ]
    }
   ],
   "source": [
    "get_unique_rgb_list(mask_split_data_path+'0.png')"
   ]
  },
  {
   "cell_type": "code",
   "execution_count": 25,
   "metadata": {},
   "outputs": [
    {
     "data": {
      "text/plain": [
       "(2, 3)"
      ]
     },
     "execution_count": 25,
     "metadata": {},
     "output_type": "execute_result"
    }
   ],
   "source": [
    "a.shape"
   ]
  },
  {
   "cell_type": "code",
   "execution_count": 5,
   "metadata": {},
   "outputs": [],
   "source": [
    "import csv\n",
    "with open('D:/zhuanli/rock_segementation_src/rock_dataset/raw_data/label.csv','w',encoding='utf-8') as f:\n",
    "    csv_writer = csv.writer(f)\n",
    "    csv_writer.writerow([\"12 12 12\", \"123\"])"
   ]
  },
  {
   "cell_type": "code",
   "execution_count": 5,
   "metadata": {},
   "outputs": [],
   "source": [
    "test1 = np.array([1, 2, 3])\n",
    "test2 = np.array([3, 4, 5])"
   ]
  },
  {
   "cell_type": "code",
   "execution_count": 6,
   "metadata": {},
   "outputs": [],
   "source": [
    "test3 = zip(test1, test2)"
   ]
  },
  {
   "cell_type": "code",
   "execution_count": 8,
   "metadata": {},
   "outputs": [
    {
     "output_type": "error",
     "ename": "AttributeError",
     "evalue": "'zip' object has no attribute 'shape'",
     "traceback": [
      "\u001b[1;31m---------------------------------------------------------------------------\u001b[0m",
      "\u001b[1;31mAttributeError\u001b[0m                            Traceback (most recent call last)",
      "\u001b[1;32m<ipython-input-8-4f6b94ba27f3>\u001b[0m in \u001b[0;36m<module>\u001b[1;34m\u001b[0m\n\u001b[1;32m----> 1\u001b[1;33m \u001b[0mtest3\u001b[0m\u001b[1;33m.\u001b[0m\u001b[0mshape\u001b[0m\u001b[1;33m\u001b[0m\u001b[1;33m\u001b[0m\u001b[0m\n\u001b[0m",
      "\u001b[1;31mAttributeError\u001b[0m: 'zip' object has no attribute 'shape'"
     ]
    }
   ],
   "source": []
  },
  {
   "cell_type": "code",
   "execution_count": 9,
   "metadata": {},
   "outputs": [],
   "source": [
    "delete_num = ['80','173', '184', '211', '229', '249', '262', '321', '324', '326', '327', '328', '332', '443', '444', '445', '451', '498', '499', '506', '523','524','525','583', '585','590','611', '613','619','620','631','633','634','635','682','687','694']"
   ]
  },
  {
   "cell_type": "code",
   "execution_count": 11,
   "metadata": {},
   "outputs": [],
   "source": [
    "json_path = 'D:/zhuanli/src/fracture_dataset/data/labelme_xml/'"
   ]
  },
  {
   "cell_type": "code",
   "execution_count": 13,
   "metadata": {},
   "outputs": [
    {
     "output_type": "error",
     "ename": "OSError",
     "evalue": "[WinError 145] 目录不是空的。: 'D:/zhuanli/src/fracture_dataset/data/labelme_xml/173_json'",
     "traceback": [
      "\u001b[1;31m---------------------------------------------------------------------------\u001b[0m",
      "\u001b[1;31mOSError\u001b[0m                                   Traceback (most recent call last)",
      "\u001b[1;32m<ipython-input-13-bd259e2d3014>\u001b[0m in \u001b[0;36m<module>\u001b[1;34m\u001b[0m\n\u001b[0;32m      3\u001b[0m     \u001b[0mjo\u001b[0m \u001b[1;33m=\u001b[0m \u001b[0mdir_name\u001b[0m\u001b[1;33m.\u001b[0m\u001b[0msplit\u001b[0m\u001b[1;33m(\u001b[0m\u001b[1;34m'_'\u001b[0m\u001b[1;33m)\u001b[0m\u001b[1;33m[\u001b[0m\u001b[1;36m0\u001b[0m\u001b[1;33m]\u001b[0m\u001b[1;33m\u001b[0m\u001b[1;33m\u001b[0m\u001b[0m\n\u001b[0;32m      4\u001b[0m     \u001b[1;32mif\u001b[0m \u001b[0mjo\u001b[0m \u001b[1;32min\u001b[0m \u001b[0mdelete_num\u001b[0m\u001b[1;33m:\u001b[0m\u001b[1;33m\u001b[0m\u001b[1;33m\u001b[0m\u001b[0m\n\u001b[1;32m----> 5\u001b[1;33m         \u001b[0mos\u001b[0m\u001b[1;33m.\u001b[0m\u001b[0mremovedirs\u001b[0m\u001b[1;33m(\u001b[0m\u001b[0mjson_path\u001b[0m \u001b[1;33m+\u001b[0m \u001b[0mdir_name\u001b[0m\u001b[1;33m)\u001b[0m\u001b[1;33m\u001b[0m\u001b[1;33m\u001b[0m\u001b[0m\n\u001b[0m",
      "\u001b[1;32mD:\\anaconda3\\envs\\tensorflow\\lib\\os.py\u001b[0m in \u001b[0;36mremovedirs\u001b[1;34m(name)\u001b[0m\n\u001b[0;32m    239\u001b[0m \u001b[1;33m\u001b[0m\u001b[0m\n\u001b[0;32m    240\u001b[0m     \"\"\"\n\u001b[1;32m--> 241\u001b[1;33m     \u001b[0mrmdir\u001b[0m\u001b[1;33m(\u001b[0m\u001b[0mname\u001b[0m\u001b[1;33m)\u001b[0m\u001b[1;33m\u001b[0m\u001b[1;33m\u001b[0m\u001b[0m\n\u001b[0m\u001b[0;32m    242\u001b[0m     \u001b[0mhead\u001b[0m\u001b[1;33m,\u001b[0m \u001b[0mtail\u001b[0m \u001b[1;33m=\u001b[0m \u001b[0mpath\u001b[0m\u001b[1;33m.\u001b[0m\u001b[0msplit\u001b[0m\u001b[1;33m(\u001b[0m\u001b[0mname\u001b[0m\u001b[1;33m)\u001b[0m\u001b[1;33m\u001b[0m\u001b[1;33m\u001b[0m\u001b[0m\n\u001b[0;32m    243\u001b[0m     \u001b[1;32mif\u001b[0m \u001b[1;32mnot\u001b[0m \u001b[0mtail\u001b[0m\u001b[1;33m:\u001b[0m\u001b[1;33m\u001b[0m\u001b[1;33m\u001b[0m\u001b[0m\n",
      "\u001b[1;31mOSError\u001b[0m: [WinError 145] 目录不是空的。: 'D:/zhuanli/src/fracture_dataset/data/labelme_xml/173_json'"
     ]
    }
   ],
   "source": [
    "dir_list = os.listdir(json_path)\n",
    "for dir_name in dir_list:\n",
    "    jo = dir_name.split('_')[0]\n",
    "    if jo in delete_num:\n",
    "        os.removedirs(json_path + dir_name)"
   ]
  },
  {
   "cell_type": "code",
   "execution_count": 21,
   "metadata": {},
   "outputs": [],
   "source": [
    "def del_file(path):\n",
    "    ls = os.listdir(path)\n",
    "    for i in ls:\n",
    "        c_path = os.path.join(path, i)\n",
    "        if os.path.isdir(c_path):\n",
    "            del_file(c_path)\n",
    "        else:\n",
    "            os.remove(c_path)\n",
    "def isContainStr(src: list, tar: str):\n",
    "    print(tar)\n",
    "    for src_ele in src:\n",
    "        if tar == src_ele:\n",
    "            return True\n",
    "    return False"
   ]
  },
  {
   "cell_type": "code",
   "execution_count": 22,
   "metadata": {},
   "outputs": [
    {
     "output_type": "stream",
     "name": "stdout",
     "text": [
      "10\n11\n124\n125\n12\n13\n14\n15\n16\n17\n18\n19\n1\n20\n212\n21\n22\n23\n24\n251\n252\n258\n259\n25\n260\n266\n269\n26\n270\n271\n275\n277\n27\n280\n281\n282\n284\n286\n289\n28\n290\n291\n292\n293\n294\n2\n303\n304\n306\n30\n31\n3\n43\n45\n46\n47\n48\n49\n50\n51\n521\n522\n52\n636\n"
     ]
    }
   ],
   "source": [
    "dir_list = os.listdir(json_path)\n",
    "for dir_name in dir_list:\n",
    "    jo = dir_name.split('_')[0]\n",
    "    if isContainStr(delete_num, jo):\n",
    "        print(jo)\n",
    "        del_file(json_path + dir_name)\n",
    "        os.removedirs(json_path + dir_name)"
   ]
  },
  {
   "cell_type": "code",
   "execution_count": 23,
   "metadata": {},
   "outputs": [
    {
     "output_type": "stream",
     "name": "stdout",
     "text": [
      "1\n10\n11\n12\n124\n125\n13\n14\n15\n16\n17\n173\n173\n18\n184\n184\n19\n2\n20\n21\n211\n211\n212\n22\n229\n229\n23\n24\n249\n249\n25\n251\n252\n258\n259\n26\n260\n262\n262\n266\n269\n27\n270\n271\n275\n277\n28\n280\n281\n282\n284\n286\n289\n290\n291\n292\n293\n294\n3\n30\n303\n304\n306\n31\n321\n321\n324\n324\n326\n326\n327\n327\n328\n328\n332\n332\n43\n443\n443\n444\n444\n445\n445\n45\n451\n451\n46\n47\n48\n49\n498\n498\n499\n499\n50\n506\n506\n51\n52\n521\n522\n523\n523\n524\n524\n525\n525\n583\n583\n585\n585\n590\n590\n611\n611\n613\n613\n619\n619\n620\n620\n631\n631\n633\n633\n634\n634\n635\n635\n636\n682\n682\n687\n687\n694\n694\n80\n80\n"
     ]
    }
   ],
   "source": [
    "img_path = 'D:/zhuanli/src/fracture_dataset/data/pic/'\n",
    "img_path_list = os.listdir(img_path)\n",
    "for img_name in img_path_list:\n",
    "    jo = img_name.split('.')[0]\n",
    "    if isContainStr(delete_num, jo):\n",
    "        print(jo)\n",
    "        os.remove(img_path + img_name)"
   ]
  },
  {
   "cell_type": "code",
   "execution_count": null,
   "metadata": {},
   "outputs": [],
   "source": []
  }
 ],
 "metadata": {
  "interpreter": {
   "hash": "0a896cb67606cd05151995453dc39b691b955953edd7a5455ff06022f985de96"
  },
  "kernelspec": {
   "name": "python3",
   "display_name": "Python 3.7.9 64-bit ('tensorflow': conda)"
  },
  "language_info": {
   "codemirror_mode": {
    "name": "ipython",
    "version": 3
   },
   "file_extension": ".py",
   "mimetype": "text/x-python",
   "name": "python",
   "nbconvert_exporter": "python",
   "pygments_lexer": "ipython3",
   "version": "3.7.9"
  },
  "orig_nbformat": 4
 },
 "nbformat": 4,
 "nbformat_minor": 2
}